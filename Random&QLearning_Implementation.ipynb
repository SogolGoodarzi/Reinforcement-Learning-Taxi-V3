{
  "nbformat": 4,
  "nbformat_minor": 0,
  "metadata": {
    "colab": {
      "provenance": []
    },
    "kernelspec": {
      "name": "python3",
      "display_name": "Python 3"
    },
    "language_info": {
      "name": "python"
    }
  },
  "cells": [
    {
      "cell_type": "markdown",
      "source": [
        "### **Importing the libraries:**"
      ],
      "metadata": {
        "id": "1HwxaMiae7oP"
      }
    },
    {
      "cell_type": "code",
      "execution_count": null,
      "metadata": {
        "id": "fwGoBdica50k",
        "colab": {
          "base_uri": "https://localhost:8080/"
        },
        "outputId": "98402bf1-e310-4b04-a336-6a6b1b047409"
      },
      "outputs": [
        {
          "output_type": "stream",
          "name": "stdout",
          "text": [
            "Looking in indexes: https://pypi.org/simple, https://us-python.pkg.dev/colab-wheels/public/simple/\n",
            "Collecting colorama\n",
            "  Downloading colorama-0.4.6-py2.py3-none-any.whl (25 kB)\n",
            "Installing collected packages: colorama\n",
            "Successfully installed colorama-0.4.6\n",
            "Looking in indexes: https://pypi.org/simple, https://us-python.pkg.dev/colab-wheels/public/simple/\n",
            "Requirement already satisfied: colorama in /usr/local/lib/python3.8/dist-packages (0.4.6)\n",
            "Looking in indexes: https://pypi.org/simple, https://us-python.pkg.dev/colab-wheels/public/simple/\n",
            "Collecting pygame\n",
            "  Downloading pygame-2.1.2-cp38-cp38-manylinux_2_17_x86_64.manylinux2014_x86_64.whl (21.8 MB)\n",
            "\u001b[2K     \u001b[90m━━━━━━━━━━━━━━━━━━━━━━━━━━━━━━━━━━━━━━━━\u001b[0m \u001b[32m21.8/21.8 MB\u001b[0m \u001b[31m23.5 MB/s\u001b[0m eta \u001b[36m0:00:00\u001b[0m\n",
            "\u001b[?25hInstalling collected packages: pygame\n",
            "Successfully installed pygame-2.1.2\n",
            "Looking in indexes: https://pypi.org/simple, https://us-python.pkg.dev/colab-wheels/public/simple/\n",
            "Requirement already satisfied: gym in /usr/local/lib/python3.8/dist-packages (0.25.2)\n",
            "Requirement already satisfied: gym-notices>=0.0.4 in /usr/local/lib/python3.8/dist-packages (from gym) (0.0.8)\n",
            "Requirement already satisfied: importlib-metadata>=4.8.0 in /usr/local/lib/python3.8/dist-packages (from gym) (6.0.0)\n",
            "Requirement already satisfied: cloudpickle>=1.2.0 in /usr/local/lib/python3.8/dist-packages (from gym) (2.2.0)\n",
            "Requirement already satisfied: numpy>=1.18.0 in /usr/local/lib/python3.8/dist-packages (from gym) (1.21.6)\n",
            "Requirement already satisfied: zipp>=0.5 in /usr/local/lib/python3.8/dist-packages (from importlib-metadata>=4.8.0->gym) (3.11.0)\n",
            "Looking in indexes: https://pypi.org/simple, https://us-python.pkg.dev/colab-wheels/public/simple/\n",
            "Requirement already satisfied: cmake in /usr/local/lib/python3.8/dist-packages (3.22.6)\n",
            "Requirement already satisfied: gym[atari] in /usr/local/lib/python3.8/dist-packages (0.25.2)\n",
            "Requirement already satisfied: scipy in /usr/local/lib/python3.8/dist-packages (1.7.3)\n",
            "Requirement already satisfied: cloudpickle>=1.2.0 in /usr/local/lib/python3.8/dist-packages (from gym[atari]) (2.2.0)\n",
            "Requirement already satisfied: importlib-metadata>=4.8.0 in /usr/local/lib/python3.8/dist-packages (from gym[atari]) (6.0.0)\n",
            "Requirement already satisfied: numpy>=1.18.0 in /usr/local/lib/python3.8/dist-packages (from gym[atari]) (1.21.6)\n",
            "Requirement already satisfied: gym-notices>=0.0.4 in /usr/local/lib/python3.8/dist-packages (from gym[atari]) (0.0.8)\n",
            "Collecting ale-py~=0.7.5\n",
            "  Downloading ale_py-0.7.5-cp38-cp38-manylinux_2_17_x86_64.manylinux2014_x86_64.whl (1.6 MB)\n",
            "\u001b[2K     \u001b[90m━━━━━━━━━━━━━━━━━━━━━━━━━━━━━━━━━━━━━━━━\u001b[0m \u001b[32m1.6/1.6 MB\u001b[0m \u001b[31m50.7 MB/s\u001b[0m eta \u001b[36m0:00:00\u001b[0m\n",
            "\u001b[?25hRequirement already satisfied: importlib-resources in /usr/local/lib/python3.8/dist-packages (from ale-py~=0.7.5->gym[atari]) (5.10.2)\n",
            "Requirement already satisfied: zipp>=0.5 in /usr/local/lib/python3.8/dist-packages (from importlib-metadata>=4.8.0->gym[atari]) (3.11.0)\n",
            "Installing collected packages: ale-py\n",
            "Successfully installed ale-py-0.7.5\n"
          ]
        }
      ],
      "source": [
        "!pip install colorama\n",
        "! pip install colorama\n",
        "! pip install pygame\n",
        "! pip install gym\n",
        "! pip install cmake 'gym[atari]' scipy\n",
        "import gym\n",
        "import numpy as np \n",
        "import matplotlib.pyplot as plt\n",
        "from IPython.display import clear_output\n",
        "from time import sleep\n",
        "import PIL.Image as Image\n",
        "import random"
      ]
    },
    {
      "cell_type": "code",
      "source": [
        "env = gym.make(\"Taxi-v3\").env\n",
        "env.reset()\n",
        "print(env.render(mode='ansi'))"
      ],
      "metadata": {
        "colab": {
          "base_uri": "https://localhost:8080/"
        },
        "id": "tlVxShl7gjKW",
        "outputId": "84598b25-e8c0-46e4-c911-e46a6576d605"
      },
      "execution_count": null,
      "outputs": [
        {
          "output_type": "stream",
          "name": "stdout",
          "text": [
            "+---------+\n",
            "|R: | : :G|\n",
            "| : |\u001b[43m \u001b[0m: : |\n",
            "| : : : : |\n",
            "| | : | : |\n",
            "|\u001b[34;1mY\u001b[0m| : |\u001b[35mB\u001b[0m: |\n",
            "+---------+\n",
            "\n",
            "\n"
          ]
        },
        {
          "output_type": "stream",
          "name": "stderr",
          "text": [
            "/usr/local/lib/python3.8/dist-packages/gym/core.py:317: DeprecationWarning: \u001b[33mWARN: Initializing wrapper in old step API which returns one bool instead of two. It is recommended to set `new_step_api=True` to use new step API. This will be the default behaviour in future.\u001b[0m\n",
            "  deprecation(\n",
            "/usr/local/lib/python3.8/dist-packages/gym/wrappers/step_api_compatibility.py:39: DeprecationWarning: \u001b[33mWARN: Initializing environment in old step API which returns one bool instead of two. It is recommended to set `new_step_api=True` to use new step API. This will be the default behaviour in future.\u001b[0m\n",
            "  deprecation(\n",
            "/usr/local/lib/python3.8/dist-packages/gym/core.py:43: DeprecationWarning: \u001b[33mWARN: The argument mode in render method is deprecated; use render_mode during environment initialization instead.\n",
            "See here for more information: https://www.gymlibrary.ml/content/api/\u001b[0m\n",
            "  deprecation(\n"
          ]
        }
      ]
    },
    {
      "cell_type": "markdown",
      "source": [
        "## **Part a.**\n",
        "\n",
        "### **Random Process without Q-learning:**"
      ],
      "metadata": {
        "id": "vrnLdXNMiBPz"
      }
    },
    {
      "cell_type": "code",
      "source": [
        "Frames = []\n",
        "total_reward = 0\n",
        "done = 0\n",
        "while not done:\n",
        "  action = env.action_space.sample()\n",
        "  state, reward, done, info = env.step(action)  # Take a random action\n",
        "  total_reward += reward\n",
        "  Frames.append({'frame': env.render(mode='ansi'),'state': state,\n",
        "    'action': action,'reward': total_reward})"
      ],
      "metadata": {
        "id": "ZrmK5fvqg0aq"
      },
      "execution_count": null,
      "outputs": []
    },
    {
      "cell_type": "code",
      "source": [
        "## Showing the process of the random model:\n",
        "for i, frame in enumerate(Frames):\n",
        "  clear_output(wait = True)\n",
        "  print(frame['frame'])\n",
        "  print(f\"Timestep: {i + 1}\")\n",
        "  print(f\"State: {frame['state']}\")\n",
        "  print(f\"Action: {frame['action']}\")\n",
        "  print(f\"Total Reward: {frame['reward']}\")\n",
        "  sleep(0.1)"
      ],
      "metadata": {
        "colab": {
          "base_uri": "https://localhost:8080/"
        },
        "id": "B8UyJvf7pxXD",
        "outputId": "446344c3-070a-4db5-9d62-20381d3275f7"
      },
      "execution_count": null,
      "outputs": [
        {
          "output_type": "stream",
          "name": "stdout",
          "text": [
            "+---------+\n",
            "|R: | : :G|\n",
            "| : | : : |\n",
            "| : : : : |\n",
            "| | : | : |\n",
            "|Y| : |\u001b[35m\u001b[34;1m\u001b[43mB\u001b[0m\u001b[0m\u001b[0m: |\n",
            "+---------+\n",
            "  (Dropoff)\n",
            "\n",
            "Timestep: 1168\n",
            "State: 475\n",
            "Action: 5\n",
            "Total Reward: -4882\n"
          ]
        }
      ]
    },
    {
      "cell_type": "markdown",
      "source": [
        "### **Calculating the parameters:**"
      ],
      "metadata": {
        "id": "IV6f81pqbro9"
      }
    },
    {
      "cell_type": "code",
      "source": [
        "Frames = []\n",
        "penalties = []\n",
        "avg_rewards = []\n",
        "epoch_list = []\n",
        "num_episodes = 500\n",
        "\n",
        "for episode in range(num_episodes):\n",
        "  state = env.reset()\n",
        "  epochs = 0\n",
        "  total_reward = 0\n",
        "  penalty = 0\n",
        "  done = 0\n",
        "  while not done:\n",
        "    action = env.action_space.sample()\n",
        "    state, reward, done, info = env.step(action)  # Take a random action\n",
        "    total_reward = total_reward + reward\n",
        "    if reward == -10:\n",
        "      penalty += 1\n",
        "    epochs += 1\n",
        "\n",
        "  avg_rewards.append(total_reward/epochs)\n",
        "  penalties.append(penalty/epochs)\n",
        "  epoch_list.append(epochs)"
      ],
      "metadata": {
        "id": "QXeuQ-QFbqn0"
      },
      "execution_count": null,
      "outputs": []
    },
    {
      "cell_type": "markdown",
      "source": [
        "### **Plotting the graphs of the parameters:**"
      ],
      "metadata": {
        "id": "Y8gCBUkncIxN"
      }
    },
    {
      "cell_type": "code",
      "source": [
        "Episodes = range(num_episodes)\n",
        "plt.bar(Episodes, avg_rewards, align = 'center', alpha = 0.5)\n",
        "plt.xlabel('Episodes') \n",
        "plt.ylabel('Average Rewards')\n",
        "plt.title('Average Rewards per move')"
      ],
      "metadata": {
        "colab": {
          "base_uri": "https://localhost:8080/",
          "height": 312
        },
        "id": "E-8faajecIYW",
        "outputId": "3d38a23f-923c-4d22-afab-fdf07bd225c2"
      },
      "execution_count": null,
      "outputs": [
        {
          "output_type": "execute_result",
          "data": {
            "text/plain": [
              "Text(0.5, 1.0, 'Average Rewards per move')"
            ]
          },
          "metadata": {},
          "execution_count": 6
        },
        {
          "output_type": "display_data",
          "data": {
            "text/plain": [
              "<Figure size 432x288 with 1 Axes>"
            ],
            "image/png": "[encoded data removed]"
          },
          "metadata": {
            "needs_background": "light"
          }
        }
      ]
    },
    {
      "cell_type": "code",
      "source": [
        "plt.bar(Episodes, epoch_list, align = 'center', alpha = 0.5)\n",
        "plt.xlabel('Episodes') \n",
        "plt.ylabel('Average number of timesteps')\n",
        "plt.title('Average number of timesteps per trip')"
      ],
      "metadata": {
        "colab": {
          "base_uri": "https://localhost:8080/",
          "height": 312
        },
        "id": "y0YhPMi0eej6",
        "outputId": "6bc5f829-dcfe-4abb-d96b-57d86cba0d61"
      },
      "execution_count": null,
      "outputs": [
        {
          "output_type": "execute_result",
          "data": {
            "text/plain": [
              "Text(0.5, 1.0, 'Average number of timesteps per trip')"
            ]
          },
          "metadata": {},
          "execution_count": 7
        },
        {
          "output_type": "display_data",
          "data": {
            "text/plain": [
              "<Figure size 432x288 with 1 Axes>"
            ],
            "image/png": "[encoded data removed]"
          },
          "metadata": {
            "needs_background": "light"
          }
        }
      ]
    },
    {
      "cell_type": "code",
      "source": [
        "plt.bar(Episodes, penalties, align = 'center', alpha = 0.5)\n",
        "plt.xlabel('Episodes') \n",
        "plt.ylabel('Average number of penalties')\n",
        "plt.title('Average number of penalties per episode')"
      ],
      "metadata": {
        "colab": {
          "base_uri": "https://localhost:8080/",
          "height": 312
        },
        "id": "ZhAt2kOheR1B",
        "outputId": "d6c57215-41f8-46b8-f6a7-5a4643a95a8c"
      },
      "execution_count": null,
      "outputs": [
        {
          "output_type": "execute_result",
          "data": {
            "text/plain": [
              "Text(0.5, 1.0, 'Average number of penalties per episode')"
            ]
          },
          "metadata": {},
          "execution_count": 8
        },
        {
          "output_type": "display_data",
          "data": {
            "text/plain": [
              "<Figure size 432x288 with 1 Axes>"
            ],
            "image/png": "[encoded data removed]"
          },
          "metadata": {
            "needs_background": "light"
          }
        }
      ]
    },
    {
      "cell_type": "code",
      "source": [
        "print('Average Rewards per move', sum(avg_rewards) / num_episodes)\n",
        "print('Average number of timsteps per trip', sum(epoch_list) / num_episodes)\n",
        "print('Average number of penalties per episode: ', sum(penalties) / num_episodes)"
      ],
      "metadata": {
        "colab": {
          "base_uri": "https://localhost:8080/"
        },
        "id": "LGaqPmHbhw8s",
        "outputId": "5ddb8ef2-862e-4f17-f56a-21119bb525cc"
      },
      "execution_count": null,
      "outputs": [
        {
          "output_type": "stream",
          "name": "stdout",
          "text": [
            "Average Rewards per move -3.8558390328517653\n",
            "Average number of timsteps per trip 2325.818\n",
            "Average number of penalties per episode:  0.3207327350643278\n"
          ]
        }
      ]
    },
    {
      "cell_type": "markdown",
      "source": [
        "## **Part b.**\n",
        "\n",
        "### **Smart Process with Q-learning:**"
      ],
      "metadata": {
        "id": "J0Fr6FXoiBKP"
      }
    },
    {
      "cell_type": "code",
      "source": [
        "# Defining parameters:\n",
        "alpha = 0.7\n",
        "gamma = 0.9\n",
        "epsilon = 1.0 \n",
        "decay_rate = 0.01   # decay rate for epsilon"
      ],
      "metadata": {
        "id": "EZRBvgBc3isT"
      },
      "execution_count": null,
      "outputs": []
    },
    {
      "cell_type": "code",
      "source": [
        "state_num = env.observation_space.n\n",
        "action_num = env.action_space.n\n",
        "q_table = np.zeros([state_num, action_num])\n",
        "num_episodes = 500\n",
        "penalties = []\n",
        "avg_rewards = []\n",
        "epoch_list = []\n",
        "\n",
        "for episode in range(num_episodes):\n",
        "  state = env.reset()\n",
        "  epochs = 0\n",
        "  total_reward = 0\n",
        "  penalty = 0\n",
        "  done = 0\n",
        "\n",
        "  while not done:\n",
        "    if random.uniform(0,1) < epsilon:\n",
        "      # exploration\n",
        "      action = env.action_space.sample()\n",
        "    else:\n",
        "      # exploitation\n",
        "      action = np.argmax(q_table[state,:])\n",
        "\n",
        "    next_state, reward, done, info = env.step(action)\n",
        "    # Q-learning \n",
        "    q_table[state,action] = q_table[state,action] + alpha*(reward + gamma*np.max(q_table[next_state,:])-q_table[state,action])\n",
        "    state = next_state\n",
        "\n",
        "    # counting the number of penalties:\n",
        "    if reward == -10:\n",
        "      penalty += 1\n",
        "    total_reward = total_reward + reward\n",
        "    epochs += 1\n",
        "\n",
        "  # update epsilon:\n",
        "  epsilon -= decay_rate\n",
        "\n",
        "  avg_rewards.append(total_reward/epochs)\n",
        "  penalties.append(penalty/epochs)\n",
        "  epoch_list.append(epochs)"
      ],
      "metadata": {
        "id": "zQRcXLfQ-gYv"
      },
      "execution_count": null,
      "outputs": []
    },
    {
      "cell_type": "code",
      "source": [
        "done = 0\n",
        "Total_reward = 0\n",
        "state = env.reset()\n",
        "i = 0\n",
        "while not done:\n",
        "  action = np.argmax(q_table[state,:])\n",
        "  next_state, reward, done, info = env.step(action)\n",
        "  Total_reward += reward\n",
        "  clear_output(wait = True)\n",
        "  print(env.render(mode='ansi'))\n",
        "  print(f\"Timestep: {i + 1}\")\n",
        "  print(f\"State: {state}\")\n",
        "  print(f\"Action: {action}\")\n",
        "  print(f\"Total Reward: {Total_reward}\")\n",
        "  i += 1\n",
        "  state = next_state\n",
        "  sleep(1)"
      ],
      "metadata": {
        "colab": {
          "base_uri": "https://localhost:8080/"
        },
        "id": "1d1nUGzpnImT",
        "outputId": "d0e60b79-71b6-4718-b8b3-93deaaae9667"
      },
      "execution_count": null,
      "outputs": [
        {
          "output_type": "stream",
          "name": "stdout",
          "text": [
            "+---------+\n",
            "|\u001b[35m\u001b[34;1m\u001b[43mR\u001b[0m\u001b[0m\u001b[0m: | : :G|\n",
            "| : | : : |\n",
            "| : : : : |\n",
            "| | : | : |\n",
            "|Y| : |B: |\n",
            "+---------+\n",
            "  (Dropoff)\n",
            "\n",
            "Timestep: 12\n",
            "State: 16\n",
            "Action: 5\n",
            "Total Reward: 9\n"
          ]
        }
      ]
    },
    {
      "cell_type": "markdown",
      "source": [
        "### **Plotting the graphs of the parameters:**"
      ],
      "metadata": {
        "id": "4mlUv3CAjH9i"
      }
    },
    {
      "cell_type": "code",
      "source": [
        "Episodes = range(num_episodes)\n",
        "plt.bar(Episodes, avg_rewards, align = 'center', alpha = 0.5)\n",
        "plt.xlabel('Episodes') \n",
        "plt.ylabel('Average Rewards')\n",
        "plt.title('Average Rewards per move')"
      ],
      "metadata": {
        "colab": {
          "base_uri": "https://localhost:8080/",
          "height": 312
        },
        "id": "Ld4LiRo0p6iA",
        "outputId": "4f57e34f-73b8-4546-bbb6-0e7e5cb01844"
      },
      "execution_count": null,
      "outputs": [
        {
          "output_type": "execute_result",
          "data": {
            "text/plain": [
              "Text(0.5, 1.0, 'Average Rewards per move')"
            ]
          },
          "metadata": {},
          "execution_count": 13
        },
        {
          "output_type": "display_data",
          "data": {
            "text/plain": [
              "<Figure size 432x288 with 1 Axes>"
            ],
            "image/png": "[encoded data removed]"
          },
          "metadata": {
            "needs_background": "light"
          }
        }
      ]
    },
    {
      "cell_type": "code",
      "source": [
        "plt.bar(Episodes, epoch_list, align = 'center', alpha = 0.5)\n",
        "plt.xlabel('Episodes') \n",
        "plt.ylabel('Average number of timesteps')\n",
        "plt.title('Average number of timesteps per trip')"
      ],
      "metadata": {
        "colab": {
          "base_uri": "https://localhost:8080/",
          "height": 312
        },
        "id": "2GzPjYXop6bw",
        "outputId": "0fbfb567-24c6-411d-ef6a-05bf5a51c9fb"
      },
      "execution_count": null,
      "outputs": [
        {
          "output_type": "execute_result",
          "data": {
            "text/plain": [
              "Text(0.5, 1.0, 'Average number of timesteps per trip')"
            ]
          },
          "metadata": {},
          "execution_count": 14
        },
        {
          "output_type": "display_data",
          "data": {
            "text/plain": [
              "<Figure size 432x288 with 1 Axes>"
            ],
            "image/png": "[encoded data removed]"
          },
          "metadata": {
            "needs_background": "light"
          }
        }
      ]
    },
    {
      "cell_type": "code",
      "source": [
        "plt.bar(Episodes, penalties, align = 'center', alpha = 0.5)\n",
        "plt.xlabel('Episodes') \n",
        "plt.ylabel('Average number of penalties')\n",
        "plt.title('Average number of penalties per episode')"
      ],
      "metadata": {
        "colab": {
          "base_uri": "https://localhost:8080/",
          "height": 312
        },
        "id": "pHDmJO_3p6WN",
        "outputId": "0af7f2da-b428-4bc6-a8ee-fab74fa10c65"
      },
      "execution_count": null,
      "outputs": [
        {
          "output_type": "execute_result",
          "data": {
            "text/plain": [
              "Text(0.5, 1.0, 'Average number of penalties per episode')"
            ]
          },
          "metadata": {},
          "execution_count": 15
        },
        {
          "output_type": "display_data",
          "data": {
            "text/plain": [
              "<Figure size 432x288 with 1 Axes>"
            ],
            "image/png": "[encoded data removed]"
          },
          "metadata": {
            "needs_background": "light"
          }
        }
      ]
    },
    {
      "cell_type": "code",
      "source": [
        "print('Average Rewards per move', sum(avg_rewards) / num_episodes)\n",
        "print('Average number of timsteps per trip', sum(epoch_list) / num_episodes)\n",
        "print('Average number of penalties per episode: ', sum(penalties) / num_episodes)"
      ],
      "metadata": {
        "colab": {
          "base_uri": "https://localhost:8080/"
        },
        "id": "X5qMU4Xcqku8",
        "outputId": "52de1e1e-8e5a-4b98-bbf1-d4e0cd1bbc09"
      },
      "execution_count": null,
      "outputs": [
        {
          "output_type": "stream",
          "name": "stdout",
          "text": [
            "Average Rewards per move 0.00750892136184102\n",
            "Average number of timsteps per trip 72.75\n",
            "Average number of penalties per episode:  0.03347153413596905\n"
          ]
        }
      ]
    },
    {
      "cell_type": "markdown",
      "source": [
        "### **Improving the Rewards:**"
      ],
      "metadata": {
        "id": "wObOuFelgIjP"
      }
    },
    {
      "cell_type": "code",
      "source": [
        "state_num = env.observation_space.n\n",
        "action_num = env.action_space.n\n",
        "q_table = np.zeros([state_num, action_num])\n",
        "num_episodes = 500\n",
        "penalties = []\n",
        "avg_rewards = []\n",
        "epoch_list = []\n",
        "\n",
        "for episode in range(num_episodes):\n",
        "  state = env.reset()\n",
        "  epochs = 0\n",
        "  total_reward = 0\n",
        "  penalty = 0\n",
        "  done = 0\n",
        "\n",
        "  while not done:\n",
        "    if random.uniform(0,1) < epsilon:\n",
        "      # exploration\n",
        "      action = env.action_space.sample()\n",
        "    else:\n",
        "      # exploitation\n",
        "      action = np.argmax(q_table[state,:])\n",
        "\n",
        "    next_state, reward, done, info = env.step(action)\n",
        "\n",
        "    ## Improving the rewards:\n",
        "    if reward == 20:\n",
        "      reward = 100\n",
        "\n",
        "    # Q-learning \n",
        "    q_table[state,action] = q_table[state,action] + alpha*(reward + gamma*np.max(q_table[next_state,:])-q_table[state,action])\n",
        "    state = next_state\n",
        "\n",
        "    # counting the number of penalties:\n",
        "    if reward == -10:\n",
        "      penalty += 1\n",
        "    total_reward = total_reward + reward\n",
        "    epochs += 1\n",
        "\n",
        "  # update epsilon:\n",
        "  epsilon -= decay_rate\n",
        "\n",
        "  avg_rewards.append(total_reward/epochs)\n",
        "  penalties.append(penalty/epochs)\n",
        "  epoch_list.append(epochs)"
      ],
      "metadata": {
        "id": "_EzzgGFngQsU"
      },
      "execution_count": null,
      "outputs": []
    },
    {
      "cell_type": "markdown",
      "source": [
        "### **Plotting the graphs of the parameters:**"
      ],
      "metadata": {
        "id": "pp8PHmhbhFUQ"
      }
    },
    {
      "cell_type": "code",
      "source": [
        "Episodes = range(num_episodes)\n",
        "plt.bar(Episodes, avg_rewards, align = 'center', alpha = 0.5)\n",
        "plt.xlabel('Episodes') \n",
        "plt.ylabel('Average Rewards')\n",
        "plt.title('Average Rewards per move')"
      ],
      "metadata": {
        "colab": {
          "base_uri": "https://localhost:8080/",
          "height": 312
        },
        "id": "cjnCLXz1goWn",
        "outputId": "4af3578f-38f5-4557-a915-0fd894a45fe0"
      },
      "execution_count": null,
      "outputs": [
        {
          "output_type": "execute_result",
          "data": {
            "text/plain": [
              "Text(0.5, 1.0, 'Average Rewards per move')"
            ]
          },
          "metadata": {},
          "execution_count": 37
        },
        {
          "output_type": "display_data",
          "data": {
            "text/plain": [
              "<Figure size 432x288 with 1 Axes>"
            ],
            "image/png": "[encoded data removed]"
          },
          "metadata": {
            "needs_background": "light"
          }
        }
      ]
    },
    {
      "cell_type": "code",
      "source": [
        "plt.bar(Episodes, epoch_list, align = 'center', alpha = 0.5)\n",
        "plt.xlabel('Episodes') \n",
        "plt.ylabel('Average number of timesteps')\n",
        "plt.title('Average number of timesteps per trip')"
      ],
      "metadata": {
        "colab": {
          "base_uri": "https://localhost:8080/",
          "height": 312
        },
        "id": "DvqwOCB8hIpS",
        "outputId": "15f34749-2dbc-4214-b343-d32d4efe361b"
      },
      "execution_count": null,
      "outputs": [
        {
          "output_type": "execute_result",
          "data": {
            "text/plain": [
              "Text(0.5, 1.0, 'Average number of timesteps per trip')"
            ]
          },
          "metadata": {},
          "execution_count": 36
        },
        {
          "output_type": "display_data",
          "data": {
            "text/plain": [
              "<Figure size 432x288 with 1 Axes>"
            ],
            "image/png": "[encoded data removed]"
          },
          "metadata": {
            "needs_background": "light"
          }
        }
      ]
    },
    {
      "cell_type": "code",
      "source": [
        "plt.bar(Episodes, penalties, align = 'center', alpha = 0.5)\n",
        "plt.xlabel('Episodes') \n",
        "plt.ylabel('Average number of penalties')\n",
        "plt.title('Average number of penalties per episode')"
      ],
      "metadata": {
        "colab": {
          "base_uri": "https://localhost:8080/",
          "height": 312
        },
        "id": "uStM09ckhMNb",
        "outputId": "308c6f64-9289-4b20-ad07-b36dcdf4d9b7"
      },
      "execution_count": null,
      "outputs": [
        {
          "output_type": "execute_result",
          "data": {
            "text/plain": [
              "Text(0.5, 1.0, 'Average number of penalties per episode')"
            ]
          },
          "metadata": {},
          "execution_count": 35
        },
        {
          "output_type": "display_data",
          "data": {
            "text/plain": [
              "<Figure size 432x288 with 1 Axes>"
            ],
            "image/png": "[encoded data removed]"
          },
          "metadata": {
            "needs_background": "light"
          }
        }
      ]
    },
    {
      "cell_type": "code",
      "source": [
        "print('Average Rewards per move', sum(avg_rewards) / num_episodes)\n",
        "print('Average number of timsteps per trip', sum(epoch_list) / num_episodes)\n",
        "print('Average number of penalties per episode: ', sum(penalties) / num_episodes)"
      ],
      "metadata": {
        "colab": {
          "base_uri": "https://localhost:8080/"
        },
        "id": "AaH0eUM2hQXj",
        "outputId": "925c623e-2b55-4827-b554-29f690cc57a9"
      },
      "execution_count": null,
      "outputs": [
        {
          "output_type": "stream",
          "name": "stdout",
          "text": [
            "Average Rewards per move 5.028767470508919\n",
            "Average number of timsteps per trip 49.16\n",
            "Average number of penalties per episode:  0.0030621376413140365\n"
          ]
        }
      ]
    }
  ]
}